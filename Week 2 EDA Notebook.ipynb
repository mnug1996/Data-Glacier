{
 "cells": [
  {
   "cell_type": "markdown",
   "metadata": {},
   "source": [
    "# G2M Insight for Cab Investment Firm\n",
    "\n",
    "### Summary:\n",
    "**The Client**\n",
    "\n",
    "XYZ is a private firm in US. Due to remarkable growth in the Cab Industry in last few years and multiple key players in the market, it is planning for an investment in Cab industry and as per their Go-to-Market(G2M) strategy they want to understand the market before taking final decision.\n",
    "\n",
    "**Project delivery:**\n",
    "\n",
    "You have been provided with multiple data sets that contains information on 2 cab companies. Each file (data set) provided represents different aspects of the customer profile. XYZ is interested in using your actionable insights to help them identify the right company to make their investment.\n",
    "\n",
    "The outcome of your delivery will be a presentation to XYZ’s Executive team. This presentation will be judged based on the visuals provided, the quality of your analysis and the value of your recommendations and insights. \n",
    "\n",
    "**Data Set:**\n",
    "\n",
    "You have been provided 4 individual data sets. Time period of data is from 31/01/2016 to 31/12/2018.\n",
    "\n",
    "Below are the list of datasets which are provided for the analysis:\n",
    "\n",
    "Cab_Data.csv – this file includes details of transaction for 2 cab companies\n",
    "\n",
    "Customer_ID.csv – this is a mapping table that contains a unique identifier which links the customer’s demographic details\n",
    "\n",
    "Transaction_ID.csv – this is a mapping table that contains transaction to customer mapping and payment mode\n",
    "\n",
    "City.csv – this file contains list of US cities, their population and number of cab users\n",
    "\n",
    "**You should fully investigate and understand each data set.**\n",
    "\n",
    "Review the Source Documentation\n",
    "Understand the field names and data types\n",
    "Identify relationships across the files\n",
    "Field/feature transformations\n",
    "Determine which files should be joined versus which ones should be appended\n",
    "Create master data and explain the relationship\n",
    "Identify and remove duplicates\n",
    "Perform other analysis like NA value and outlier detection\n",
    "\n",
    "The idea is to create a hypothesis, engage with the data, think critically, and use various analytical approaches to produce unique insights.\n",
    "\n",
    "We encourage you to find third party data sets which correspond to the overall theme and geographical properties of the data provided.  For Example: you can leverage US holiday data/ weather data\n",
    "\n",
    "Also, do research on overall cab industry in US and try to relate that with the trend in data\n",
    "\n",
    "**Analysis**\n",
    "\n",
    "**Create multiple hypothesis and investigate:**\n",
    "\n",
    "**You will need to generate 5-7 hypothesis initially to investigate as some will not prove what you are expecting.**\n",
    "\n",
    "**For Example: “Is there any seasonality in number of customers using the cab service?”**\n",
    "\n",
    "Areas to investigate:\n",
    "\n",
    "Which company has maximum cab users at a particular time period?\n",
    "Does margin proportionally increase with increase in number of customers?\n",
    "What are the attributes of these customer segments?\n",
    "Although not required, we encourage you to document the process and findings\n",
    "\n",
    "What is the business problem?\n",
    "What are the properties of the data provided (data intake report)\n",
    "What steps did you take in order to create an applicable data set?\n",
    "How did you prepare and perform your analysis?\n",
    "What type of analysis did you perform?\n",
    "Why did you choose to use certain analytical techniques over others?\n",
    "What were the results?\n",
    "Prepare a presentation that summarizes your analysis and recommendations and identify which company is performing better and is a better investment opportunity for XYZ."
   ]
  },
  {
   "cell_type": "code",
   "execution_count": 2,
   "metadata": {},
   "outputs": [
    {
     "ename": "ModuleNotFoundError",
     "evalue": "No module named 'pandas'",
     "output_type": "error",
     "traceback": [
      "\u001b[0;31m---------------------------------------------------------------------------\u001b[0m",
      "\u001b[0;31mModuleNotFoundError\u001b[0m                       Traceback (most recent call last)",
      "\u001b[1;32m/Users/Mathew/Desktop/Data Glacier/Week 2/DataSets/Week 2 EDA Notebook.ipynb Cell 2\u001b[0m in \u001b[0;36m<cell line: 1>\u001b[0;34m()\u001b[0m\n\u001b[0;32m----> <a href='vscode-notebook-cell:/Users/Mathew/Desktop/Data%20Glacier/Week%202/DataSets/Week%202%20EDA%20Notebook.ipynb#W1sZmlsZQ%3D%3D?line=0'>1</a>\u001b[0m \u001b[39mimport\u001b[39;00m \u001b[39mpandas\u001b[39;00m \u001b[39mas\u001b[39;00m \u001b[39mpd\u001b[39;00m\n\u001b[1;32m      <a href='vscode-notebook-cell:/Users/Mathew/Desktop/Data%20Glacier/Week%202/DataSets/Week%202%20EDA%20Notebook.ipynb#W1sZmlsZQ%3D%3D?line=2'>3</a>\u001b[0m cab \u001b[39m=\u001b[39m pd\u001b[39m.\u001b[39mread_csv(\u001b[39m\"\u001b[39m\u001b[39mCab_Data.csv\u001b[39m\u001b[39m\"\u001b[39m)\n\u001b[1;32m      <a href='vscode-notebook-cell:/Users/Mathew/Desktop/Data%20Glacier/Week%202/DataSets/Week%202%20EDA%20Notebook.ipynb#W1sZmlsZQ%3D%3D?line=3'>4</a>\u001b[0m cab\n",
      "\u001b[0;31mModuleNotFoundError\u001b[0m: No module named 'pandas'"
     ]
    }
   ],
   "source": [
    "import pandas as pd\n",
    "\n",
    "cab = pd.read_csv(\"Cab_Data.csv\")\n",
    "cab"
   ]
  },
  {
   "cell_type": "code",
   "execution_count": null,
   "metadata": {},
   "outputs": [],
   "source": []
  }
 ],
 "metadata": {
  "kernelspec": {
   "display_name": "Python 3.10.1 64-bit",
   "language": "python",
   "name": "python3"
  },
  "language_info": {
   "codemirror_mode": {
    "name": "ipython",
    "version": 3
   },
   "file_extension": ".py",
   "mimetype": "text/x-python",
   "name": "python",
   "nbconvert_exporter": "python",
   "pygments_lexer": "ipython3",
   "version": "3.10.1"
  },
  "orig_nbformat": 4,
  "vscode": {
   "interpreter": {
    "hash": "aee8b7b246df8f9039afb4144a1f6fd8d2ca17a180786b69acc140d282b71a49"
   }
  }
 },
 "nbformat": 4,
 "nbformat_minor": 2
}
